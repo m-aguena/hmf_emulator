{
 "cells": [
  {
   "cell_type": "code",
   "execution_count": null,
   "metadata": {},
   "outputs": [],
   "source": "%load_ext autoreload\n%autoreload 2"
  },
  {
   "cell_type": "code",
   "execution_count": null,
   "metadata": {},
   "outputs": [],
   "source": "import sys\nsys.path.append('/home/aguena/git_codes/hmf_emulator/hmf/')\nimport hmf"
  },
  {
   "cell_type": "code",
   "execution_count": null,
   "metadata": {},
   "outputs": [],
   "source": "import numpy as np\nimport pylab as plt\n%matplotlib inline"
  },
  {
   "cell_type": "markdown",
   "metadata": {},
   "source": "# Config"
  },
  {
   "cell_type": "code",
   "execution_count": null,
   "metadata": {},
   "outputs": [],
   "source": "OmB = 0.027\nOmM = 0.3139\n#omega_cdm = 0.3139-0.027\nh = 0.6727\ncos={\n    \"omega_b\": (OmB)*h**2,\n    \"omega_cdm\": (OmM-OmB)*h**2,\n    \"w0\": -1,\n    \"n_s\": 0.9645,\n    \"ln10As\": 2.2065,\n    \"H0\": h*100,\n    \"N_eff\": 3.\n    }\nrho_c = 2.775e11\nRofM = lambda M: (3*M/(4*np.pi*rho_c*OmM))**(1/3.)\nln10 = np.log(10)"
  },
  {
   "cell_type": "code",
   "execution_count": null,
   "metadata": {},
   "outputs": [],
   "source": "zs = np.arange(0., .5, .2)\nM = np.logspace(13, 15, num=20)\nlnM = np.log(M)\nlogM = np.log10(M)\nR = RofM(M)"
  },
  {
   "cell_type": "code",
   "execution_count": null,
   "metadata": {},
   "outputs": [],
   "source": "tk = hmf.hmf_emulator()\ntk.set_cosmology(cos)\ntk._compute_sigma(zs)\nhmf_sig, hmf_dsig = tk._internal_sigmas(lnM, 0)"
  },
  {
   "cell_type": "markdown",
   "metadata": {},
   "source": "# Sigma"
  },
  {
   "cell_type": "code",
   "execution_count": null,
   "metadata": {},
   "outputs": [],
   "source": "import scipy.integrate\nfrom scipy.interpolate import InterpolatedUnivariateSpline as IUS\ndef sigint(lnk, r, p_int):\n     k = np.exp(lnk)\n     x = k * r\n     w = 3 * (-x * np.cos(x) + np.sin(x)) / x**3\n     tmp = w**2 * k**3 * p_int(lnk) / (2 * 3.14159**2)\n     return tmp\ndef dsiginitdlnM(lnk, r, p_int):\n    k = np.exp(lnk)\n    x = k * r\n    w = 3 * (-x * np.cos(x) + np.sin(x)) / x**3\n    rdwdr = 3*(((x*x-3)*np.sin(x)/x)+3*np.cos(x))/(x*x)\n    return w * rdwdr * k**3 * p_int(lnk) / (3 * 3.14159**2)\nclass Sig():\n    def __init__(self, k, pk):\n\n        lnk = np.log(k)\n        self.kmin, self.kmax = min(lnk), max(lnk)\n        self.p_int = IUS(lnk, pk)\n    def sigr(self, R):\n        #print(R)\n        return scipy.integrate.quad(sigint, self.kmin, self.kmax,\n                                    args=(R, self.p_int), epsrel=1e-10)[0]\n    def sigr_vec(self, R_vec):\n        return np.array([self.sigr(R) for R in R_vec])\n    def sigrdlnM(self, R):\n        #print(R)\n        return scipy.integrate.quad(dsiginitdlnM, self.kmin, self.kmax,\n                                    args=(R, self.p_int), epsrel=1e-10)[0]\n    def sigrdlnM_vec(self, R_vec):\n        return np.array([self.sigrdlnM(R) for R in R_vec])\n"
  },
  {
   "cell_type": "code",
   "execution_count": null,
   "metadata": {},
   "outputs": [],
   "source": "s = Sig(k = tk.k/h, pk=tk.computed_pk[0])"
  },
  {
   "cell_type": "code",
   "execution_count": null,
   "metadata": {},
   "outputs": [],
   "source": "plt.plot(R, hmf_sig, label='AEM', lw=3)\nplt.plot(R, s.sigr_vec(R), label='Ext')\nplt.legend()\nplt.show()\n\nplt.plot(M, 1-(hmf_sig)/(s.sigr_vec(R)))\nplt.xscale('log')\nplt.show()"
  },
  {
   "cell_type": "code",
   "execution_count": null,
   "metadata": {},
   "outputs": [],
   "source": "ds = ((hmf_sig[1:]-hmf_sig[:-1])/(lnM[1:]-lnM[:-1]))\nmm = np.exp((lnM[1:]+lnM[:-1])*.5)\n\nplt.plot(M, hmf_dsig*2, label='AEM', lw=3)\nplt.plot(M, s.sigrdlnM_vec(R)/M, label='Ext', lw=2)\nplt.plot(mm, ds/mm, label='Manual')\n#plt.yscale('log')\nplt.legend()\nplt.xscale('log')\nplt.show()\n\nplt.plot(M, 1-(hmf_dsig*2)/(s.sigrdlnM_vec(R)/M))\nplt.xscale('log')\nplt.show()"
  },
  {
   "cell_type": "markdown",
   "metadata": {},
   "source": "# Mass Function"
  },
  {
   "cell_type": "code",
   "execution_count": null,
   "metadata": {},
   "outputs": [],
   "source": "def out_tinker(M, s):\n    R  = RofM(M)\n    sigma = np.sqrt(s.sigr_vec(R))\n    dsigmadM = s.sigrdlnM_vec(R)/M\n    \n    #A, a, b, c = 0.186, 1.47, 2.57, 1.19\n    #ftk = A*(((b/sigma)**a)+1.0)*np.exp(-c/(sigma*sigma))\n    \n    B, d, e, f, g = 0.482, 1.97, 1.00, 0.51, 1.228\n    ftk = B*( (sigma/e)**(-d)+sigma**(-f))*np.exp(-g/sigma**2) \n    \n    return ftk*(-.5*dsigmadM/sigma**2)*(rho_c*OmM/M)"
  },
  {
   "cell_type": "code",
   "execution_count": null,
   "metadata": {},
   "outputs": [],
   "source": "sigma_funcs = (lambda lnM, z: s.sigr_vec(RofM(np.exp(lnM))),\n            lambda lnM, z: .5*s.sigrdlnM_vec(RofM(np.exp(lnM)))/np.exp(lnM))\n \ndndMtk0 = tk.dndM(M, 0, default_tinker=True,\n                  sigma_funcs=None,\n                  )\ndndMtk1 = tk.dndM(M, 0, default_tinker=True,\n                  sigma_funcs=sigma_funcs,\n                  )\n\nplt.plot(M, dndMtk0, label='AEM0')\nplt.plot(M, dndMtk1, label='AEM1')\nplt.xscale('log')\nplt.yscale('log')\nplt.legend()\nplt.show()\n\nplt.plot(M, 1-dndMtk0/dndMtk1)\nplt.xscale('log')\nplt.show()"
  },
  {
   "cell_type": "code",
   "execution_count": null,
   "metadata": {},
   "outputs": [],
   "source": "outk = out_tinker(M, s=s)\n \nsigma_funcs = None\n \ndndMtk = tk.dndM(M, 0, default_tinker=True,\n                  sigma_funcs=sigma_funcs,\n                  )\n\nplt.plot(M, dndMtk, label='AEM')\nplt.plot(M, outk, label='Tinker')\nplt.xscale('log')\nplt.yscale('log')\nplt.legend()\nplt.show()\n\nplt.plot(M, 1-dndMtk/outk)\nplt.xscale('log')\nplt.show()\n"
  },
  {
   "cell_type": "code",
   "execution_count": null,
   "metadata": {
    "scrolled": true
   },
   "outputs": [],
   "source": "outk = out_tinker(M, s=s)\n \nsigma_funcs = None\nsigma_funcs=(lambda lnM, z: s.sigr_vec(RofM(np.exp(lnM))),\n            lambda lnM, z: .5*s.sigrdlnM_vec(RofM(np.exp(lnM)))/np.exp(lnM))\n \ndndMtk = tk.dndM(M, 0, default_tinker=True,\n                  sigma_funcs=sigma_funcs,\n                  )\n\nplt.plot(M, dndMtk, label='AEM')\nplt.plot(M, outk, label='Tinker')\nplt.xscale('log')\nplt.yscale('log')\nplt.legend()\nplt.show()\n\nplt.plot(M, 1-dndMtk/outk)\nplt.xscale('log')\nplt.show()"
  },
  {
   "cell_type": "markdown",
   "metadata": {},
   "source": "# Combined"
  },
  {
   "cell_type": "code",
   "execution_count": null,
   "metadata": {},
   "outputs": [],
   "source": "def plt_diff(x, y1, y2, ext={},\n             xlog=False, ylog=False, axcfg={},\n             xlabel=None, ylabel=None,\n            labs=('AEM', 'EXT')):\n    axcfg_ = {'left':0, 'bottom':0, 'xt':.4, 'yt':.1, 'yt2':.1}\n    axcfg_.update(axcfg)\n    axcfg_['yt'] *= .5\n    axes = (plt.axes([axcfg_['left'], axcfg_['bottom']+axcfg_['yt2'], axcfg_['xt'], axcfg_['yt']]),\n            plt.axes([axcfg_['left'], axcfg_['bottom'], axcfg_['xt'], axcfg_['yt2']]))\n    \n    axes[0].plot(x, y1, label=labs[0], lw=3)\n    axes[0].plot(x, y2, label=labs[1])\n    \n    \n    axes[1].plot(x, 1-y1/y2)\n    if xlog:\n        for ax in axes:\n            ax.set_xscale('log')\n    if ylog:\n        axes[0].set_yscale('log')\n\n    for k, v in ext.items():\n        axes[0].plot(v['x'], v['y'], label=k)\n        if x[v['x']==x].size==x.size:\n            axes[1].plot(x, 1-v['y']/y2)\n            \n    axes[0].set_ylabel(ylabel)\n    axes[1].set_ylabel('1-%s/%s'%tuple(labs))\n    axes[1].set_xlabel(xlabel)\n    axes[0].legend()\n    return axes\n\ndef comb(cos=cos, zs=zs, M=M, title=None):    \n    plt.figure(figsize=(10, 10))\n    lnM = np.log(M)\n    logM = np.log10(M)\n    R = RofM(M)\n    \n    tk.set_cosmology(cos)\n    tk._compute_sigma(zs)\n    hmf_sig, hmf_dsig = tk._internal_sigmas(lnM, 0)\n    \n    s = Sig(k = tk.k/h, pk=tk.computed_pk[0])\n    \n    ds = ((hmf_sig[1:]-hmf_sig[:-1])/(lnM[1:]-lnM[:-1]))\n    mm = np.exp((lnM[1:]+lnM[:-1])*.5)\n    \n    \n\n    sigma_funcs=(lambda lnM, z: s.sigr_vec(RofM(np.exp(lnM))),\n            lambda lnM, z: .5*s.sigrdlnM_vec(RofM(np.exp(lnM)))/np.exp(lnM))\n    outk = out_tinker(M, s=s)\n    dndMtk0 = tk.dndM(M, 0, default_tinker=True,\n                      sigma_funcs=None,\n                      )\n    dndMtk1 = tk.dndM(M, 0, default_tinker=True,\n                      sigma_funcs=sigma_funcs,\n                      )\n\n    y1, y2 = .1, .52\n    x1, x2 = 0, .5\n    xt, yt = .4, .4\n    \n    ax_sig = plt_diff(M, hmf_sig, s.sigr_vec(R),\n             ext={}, xlog=True, ylog=False, xlabel='$M$', ylabel='$\\sigma$',\n             axcfg={'bottom':y2, 'left':x1, 'xt':xt, 'yt':yt})\n    plt_diff(M, hmf_dsig*2, s.sigrdlnM_vec(R)/M, xlabel='$M$', ylabel='$d\\sigma/dM$',\n             ext={'Manual':{'y':ds/mm, 'x':mm}}, xlog=True, ylog=False,\n             axcfg={'bottom':y1, 'left':x1, 'xt':xt, 'yt':yt})\n    #plt_diff(M, dndMtk1, dndMtk0, xlog=True, ylog=True, xlabel='$M$', ylabel='$dn/dM$',\n    #         axcfg={'bottom':y2, 'left':x2, 'xt':xt, 'yt':yt}, labs=('Ext', 'Int'))\n    plt_diff(M, dndMtk0, outk, xlog=True, ylog=True, xlabel='$M$', ylabel='$dn/dM$',\n             axcfg={'bottom':y2, 'left':x2, 'xt':xt, 'yt':yt}, labs=('$AEM(\\sigma$ int)', 'EXT'))\n    plt_diff(M, dndMtk1, outk, #ext={'internal sigma':{'x':M, 'y':dndMtk0}},\n             xlog=True, ylog=True, xlabel='$M$', ylabel='$dn/dM$',\n             axcfg={'bottom':y1, 'left':x2, 'xt':xt, 'yt':yt}\n             , labs=('$AEM(\\sigma$ ext)', 'EXT')\n            )\n    if title is not None:\n        ax_sig[0].set_title(title)"
  },
  {
   "cell_type": "code",
   "execution_count": null,
   "metadata": {
    "scrolled": true
   },
   "outputs": [],
   "source": "comb()"
  },
  {
   "cell_type": "code",
   "execution_count": null,
   "metadata": {},
   "outputs": [],
   "source": "OmB = 0.027\nOmM = 0.3139\nh = 0.6727\nfor OmM in (.2, .3, .4):\n    print('***********************************')\n    print('*** OmM = %.1f'%OmM)\n    print('***********************************')\n    comb(cos={\n    \"omega_b\": (OmB)*h**2,\n    \"omega_cdm\": (OmM-OmB)*h**2,\n    \"w0\": -1,\n    \"n_s\": 0.9645,\n    \"ln10As\": 2.2065,\n    \"H0\": h*100,\n    \"N_eff\": 3.\n    })\n    plt.show()"
  },
  {
   "cell_type": "code",
   "execution_count": null,
   "metadata": {},
   "outputs": [],
   "source": "OmB = 0.027\nOmM = 0.3139\nh = 0.6727\nfor OmB in (.02, .03, .04):\n    print('***********************************')\n    print('*** OmB = %.1f'%OmB)\n    print('***********************************')\n    comb(cos={\n    \"omega_b\": (OmB)*h**2,\n    \"omega_cdm\": (OmM-OmB)*h**2,\n    \"w0\": -1,\n    \"n_s\": 0.9645,\n    \"ln10As\": 2.2065,\n    \"H0\": h*100,\n    \"N_eff\": 3.\n    })\n    plt.show()"
  },
  {
   "cell_type": "code",
   "execution_count": null,
   "metadata": {},
   "outputs": [],
   "source": "OmB = 0.027\nOmM = 0.3139\nh = 0.6727\nfor h in (.6, .7, .8):\n    print('***********************************')\n    print('*** h = %.1f'%h)\n    print('***********************************')\n    comb(cos={\n    \"omega_b\": (OmB)*h**2,\n    \"omega_cdm\": (OmM-OmB)*h**2,\n    \"w0\": -1,\n    \"n_s\": 0.9645,\n    \"ln10As\": 2.2065,\n    \"H0\": h*100,\n    \"N_eff\": 3.\n    })\n    plt.show()"
  }
 ],
 "metadata": {
  "kernelspec": {
   "display_name": "Python 2",
   "language": "python",
   "name": "python2"
  },
  "language_info": {
   "codemirror_mode": {
    "name": "ipython",
    "version": 2
   },
   "file_extension": ".py",
   "mimetype": "text/x-python",
   "name": "python",
   "nbconvert_exporter": "python",
   "pygments_lexer": "ipython2",
   "version": "2.7.15+"
  }
 },
 "nbformat": 4,
 "nbformat_minor": 1
}
